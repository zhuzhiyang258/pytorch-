{
 "cells": [
  {
   "cell_type": "code",
   "execution_count": 1,
   "metadata": {},
   "outputs": [],
   "source": [
    "import torch"
   ]
  },
  {
   "cell_type": "code",
   "execution_count": 2,
   "metadata": {},
   "outputs": [
    {
     "name": "stdout",
     "output_type": "stream",
     "text": [
      "torch.Size([9, 32, 8])\n",
      "torch.Size([2, 3, 32, 8])\n"
     ]
    }
   ],
   "source": [
    "a = torch.rand(3,32,8)\n",
    "b = torch.rand(6,32,8)\n",
    "c = torch.rand(3,32,8)\n",
    "print(torch.cat([a,b],dim=0).shape)\n",
    "print(torch.stack([a,c],dim=0).shape)"
   ]
  },
  {
   "cell_type": "code",
   "execution_count": 3,
   "metadata": {},
   "outputs": [
    {
     "name": "stdout",
     "output_type": "stream",
     "text": [
      "torch.Size([2, 32, 8])\n",
      "torch.Size([2, 32, 8])\n",
      "torch.Size([1, 32, 8])\n",
      "3\n",
      "<class 'tuple'>\n",
      "torch.Size([3, 32, 8])\n",
      "torch.Size([2, 32, 8])\n",
      "2\n",
      "<class 'tuple'>\n"
     ]
    }
   ],
   "source": [
    "a = torch.rand(5,32,8)\n",
    "b = torch.split(a,2,0)\n",
    "print(b[0].shape)\n",
    "print(b[1].shape)\n",
    "print(b[2].shape)\n",
    "print(len(b))\n",
    "print(type(b))\n",
    "\n",
    "c = torch.chunk(a,2,0)\n",
    "print(c[0].shape)\n",
    "print(c[1].shape)\n",
    "print(len(c))\n",
    "print(type(c))"
   ]
  },
  {
   "cell_type": "code",
   "execution_count": 4,
   "metadata": {},
   "outputs": [
    {
     "name": "stdout",
     "output_type": "stream",
     "text": [
      "tensor(3.)\n",
      "tensor(4.)\n",
      "tensor(3.)\n",
      "tensor(3.)\n",
      "tensor(0.1416)\n"
     ]
    }
   ],
   "source": [
    "a = torch.tensor(3.1415926)\n",
    "print(a.floor())\n",
    "print(a.ceil())\n",
    "print(a.round())\n",
    "print(a.trunc())\n",
    "print(a.frac())\n"
   ]
  },
  {
   "cell_type": "code",
   "execution_count": 5,
   "metadata": {},
   "outputs": [
    {
     "name": "stdout",
     "output_type": "stream",
     "text": [
      "tensor([1., 2., 3., 4., 5., 6., 7.])\n",
      "tensor(4.)\n",
      "tensor(7.)\n",
      "tensor(1.)\n",
      "tensor(28.)\n",
      "tensor(5040.)\n",
      "tensor(6)\n",
      "tensor(0)\n"
     ]
    }
   ],
   "source": [
    "a = torch.tensor([1.,2.,3.,4.,5.,6.,7.])\n",
    "print(a)\n",
    "\n",
    "print(a.mean())\n",
    "print(a.max())\n",
    "print(a.min())\n",
    "print(a.sum())\n",
    "print(a.prod())\n",
    "\n",
    "print(a.argmax())\n",
    "print(a.argmin())\n",
    "\n",
    "\n",
    "\n"
   ]
  },
  {
   "cell_type": "code",
   "execution_count": 6,
   "metadata": {},
   "outputs": [
    {
     "name": "stdout",
     "output_type": "stream",
     "text": [
      "tensor([[1., 1., 1.],\n",
      "        [1., 1., 1.],\n",
      "        [1., 1., 1.]])\n",
      "tensor([[1., 0., 0.],\n",
      "        [0., 1., 0.],\n",
      "        [0., 0., 1.]])\n",
      "tensor([[ True, False, False],\n",
      "        [False,  True, False],\n",
      "        [False, False,  True]])\n",
      "False\n"
     ]
    }
   ],
   "source": [
    "a = torch.ones(3,3)\n",
    "b = torch.eye(3,3)\n",
    "print(a)\n",
    "print(b)\n",
    "\n",
    "print(torch.eq(a,b))\n",
    "print(torch.equal(a,b))\n"
   ]
  },
  {
   "cell_type": "code",
   "execution_count": 1,
   "metadata": {},
   "outputs": [
    {
     "name": "stderr",
     "output_type": "stream",
     "text": [
      "e:\\Anaconda\\envs\\Torch\\Lib\\site-packages\\tqdm\\auto.py:21: TqdmWarning: IProgress not found. Please update jupyter and ipywidgets. See https://ipywidgets.readthedocs.io/en/stable/user_install.html\n",
      "  from .autonotebook import tqdm as notebook_tqdm\n"
     ]
    }
   ],
   "source": [
    "import torch\n",
    "import torch.nn as nn\n",
    "import torchvision\n",
    "import torchvision.transforms as transforms\n",
    "import torch.optim as optim"
   ]
  },
  {
   "cell_type": "code",
   "execution_count": 2,
   "metadata": {},
   "outputs": [],
   "source": [
    "if torch.cuda.is_available():\n",
    "    device = 'cuda'\n",
    "else:\n",
    "    device = 'cpu'"
   ]
  },
  {
   "cell_type": "code",
   "execution_count": 3,
   "metadata": {},
   "outputs": [],
   "source": [
    "class Net(nn.Module):\n",
    "    #定义网络层\n",
    "    def __init__(self, *args, **kwargs) -> None:\n",
    "        super().__init__(*args, **kwargs)\n",
    "        self.fc1 = nn.Linear(784,100)\n",
    "        self.fc2 = nn.Linear(100,5)\n",
    "        self.fc3 = nn.Linear(5,10)\n",
    "    #hook\n",
    "    #网络框架\n",
    "    def forward(self,x):\n",
    "        x = torch.flatten(x,start_dim =1)\n",
    "        x = torch.relu(self.fc1(x))\n",
    "        x=  torch.relu(self.fc2(x))\n",
    "        x = self.fc3(x)\n",
    "        return x\n",
    "\n",
    "max_epochs = 5\n",
    "batch_size = 16\n",
    "\n",
    "#data\n",
    "transform = transforms.Compose([transforms.ToTensor()])\n",
    "#数据集下载\n",
    "trainset = torchvision.datasets.MNIST(root='./data',train=True,download=True,transform=transform)\n",
    "train_loader = torch.utils.data.DataLoader(trainset,batch_size=batch_size,shuffle =True)\n",
    "testset = torchvision.datasets.MNIST(root='./data',train=True,download=False,transform=transform)\n",
    "test_loader = torch.utils.data.DataLoader(testset,batch_size=batch_size,shuffle =True)\n",
    "\n",
    "#net init\n",
    "net = Net()\n",
    "net.to(device)\n",
    "\n",
    "#nn.MSE\n",
    "loss = nn.CrossEntropyLoss()\n",
    "optimizer = optim.SGD(net.parameters(),lr = 0.001)\n",
    "\n",
    "def train():\n",
    "    acc_num = 0\n",
    "    for epoch in range(max_epochs):\n",
    "        for i ,(data,label) in enumerate(train_loader):\n",
    "            data = data.to(device)\n",
    "            label = label.to(device)\n",
    "            optimizer.zero_grad()\n",
    "            output = net(data)\n",
    "            Loss = loss(output,label)\n",
    "            Loss.backward()\n",
    "            optimizer.step()\n",
    "\n",
    "            pred_class = torch.max(output,dim=1)[1]\n",
    "            acc_num += torch.eq(pred_class,label.to(device)).sum().item()\n",
    "            train_acc = acc_num/len(trainset) \n",
    "        \n",
    "        net.eval()\n",
    "        acc_num =0.0\n",
    "        best_acc = 0\n",
    "        with torch.no_grad():\n",
    "            for val_data in test_loader:\n",
    "                val_image,val_label = val_data\n",
    "                output = net(val_image.to(device))\n",
    "                predict_y = torch.max(output,dim=1)[1]\n",
    "                acc_num += torch.eq(predict_y,val_label.to(device)).sum().item()\n",
    "            val_acc = acc_num/len(testset) \n",
    "            print(train_acc,val_acc)\n",
    "            if val_acc > best_acc:\n",
    "                torch.save(net.state_dict(),'./minst.pth')\n",
    "                best_acc = val_acc\n",
    "            acc_num = 0\n",
    "            train_acc = 0\n",
    "            test_acc = 0\n",
    "    print(\"done\")\n"
   ]
  },
  {
   "cell_type": "code",
   "execution_count": 6,
   "metadata": {},
   "outputs": [
    {
     "name": "stdout",
     "output_type": "stream",
     "text": [
      "0.8641666666666666 0.8672333333333333\n",
      "0.8704 0.8733666666666666\n",
      "0.8760666666666667 0.88025\n",
      "0.8814333333333333 0.88505\n",
      "0.8867166666666667 0.8891\n",
      "done\n"
     ]
    }
   ],
   "source": [
    "train()"
   ]
  }
 ],
 "metadata": {
  "kernelspec": {
   "display_name": "Torch",
   "language": "python",
   "name": "python3"
  },
  "language_info": {
   "codemirror_mode": {
    "name": "ipython",
    "version": 3
   },
   "file_extension": ".py",
   "mimetype": "text/x-python",
   "name": "python",
   "nbconvert_exporter": "python",
   "pygments_lexer": "ipython3",
   "version": "3.11.6"
  }
 },
 "nbformat": 4,
 "nbformat_minor": 2
}
